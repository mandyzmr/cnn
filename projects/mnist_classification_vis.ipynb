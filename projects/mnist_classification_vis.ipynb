{
 "cells": [
  {
   "cell_type": "markdown",
   "id": "a45ca9d5-11dd-4be1-be3f-1e2d2f4e987f",
   "metadata": {
    "tags": []
   },
   "source": [
    "> ### Multi-Class CNN"
   ]
  },
  {
   "cell_type": "code",
   "execution_count": 1,
   "id": "a805a7d7-4687-4450-ba52-b755672a00da",
   "metadata": {},
   "outputs": [],
   "source": [
    "# Analysis\n",
    "import os\n",
    "import glob\n",
    "import numpy as np\n",
    "import pandas as pd\n",
    "import scipy\n",
    "from collections import OrderedDict\n",
    "\n",
    "# Plotting\n",
    "import PIL\n",
    "from PIL import ImageDraw, Image\n",
    "import seaborn as sns\n",
    "import cv2\n",
    "import matplotlib.pyplot as plt\n",
    "%matplotlib inline\n",
    "plt.rcParams['font.sans-serif']=['Arial Unicode MS'] \n",
    "plt.rcParams['axes.unicode_minus']=False \n",
    "\n",
    "#Framework\n",
    "import tensorflow as tf\n",
    "from tensorflow import keras\n",
    "from tensorflow.keras import layers, regularizers\n",
    "import torch\n",
    "import torch.nn as nn\n",
    "import torch.nn.functional as F\n"
   ]
  },
  {
   "cell_type": "markdown",
   "id": "6b808318-a5ab-4274-835d-0b1553abfa73",
   "metadata": {},
   "source": [
    "#### Data"
   ]
  },
  {
   "cell_type": "code",
   "execution_count": 8,
   "id": "dcfcf4c8-7b4d-4800-a52e-2c90691f081c",
   "metadata": {},
   "outputs": [],
   "source": [
    "numbers = keras.datasets.mnist\n",
    "(X_train, y_train), (X_test, y_test) = numbers.load_data()"
   ]
  },
  {
   "cell_type": "code",
   "execution_count": 12,
   "id": "0e414f53-c168-460b-b8af-6f386ff29be1",
   "metadata": {},
   "outputs": [
    {
     "name": "stdout",
     "output_type": "stream",
     "text": [
      "Training set shape: X:(60000, 28, 28), y:(60000,)\n",
      "Test set shape: X:(10000, 28, 28), y:(10000,)\n",
      "There are 10 labels: [0 1 2 3 4 5 6 7 8 9]\n"
     ]
    }
   ],
   "source": [
    "print(f'Training set shape: X:{X_train.shape}, y:{y_train.shape}')\n",
    "print(f'Test set shape: X:{X_test.shape}, y:{y_test.shape}')\n",
    "print(f'There are {len(np.unique(y_train))} labels: {np.unique(y_train)}')"
   ]
  },
  {
   "cell_type": "code",
   "execution_count": 19,
   "id": "4d51d7c4-8fed-49bc-8391-33f791b615f8",
   "metadata": {
    "tags": []
   },
   "outputs": [
    {
     "data": {
      "text/plain": [
       "<matplotlib.image.AxesImage at 0x1516c1fd0>"
      ]
     },
     "execution_count": 19,
     "metadata": {},
     "output_type": "execute_result"
    },
    {
     "name": "stdout",
     "output_type": "stream",
     "text": [
      "Class 5\n"
     ]
    },
    {
     "data": {
      "image/png": "[encoded data removed]",
      "text/plain": [
       "<Figure size 432x288 with 1 Axes>"
      ]
     },
     "metadata": {
      "needs_background": "light"
     },
     "output_type": "display_data"
    }
   ],
   "source": [
    "plt.imshow(X_train[0])\n",
    "print(f'Class {y_train[0]}')"
   ]
  },
  {
   "cell_type": "code",
   "execution_count": 13,
   "id": "afd6bf7b-442f-4406-918a-37894e333018",
   "metadata": {},
   "outputs": [],
   "source": [
    "def preprocess(images): # for numpy arrays\n",
    "    images = images.astype('float32') \n",
    "    images = images/255.0 \n",
    "    images = images.reshape(-1,28,28,1) \n",
    "    return images"
   ]
  },
  {
   "cell_type": "code",
   "execution_count": 14,
   "id": "1aba98e1-18ea-48a8-9017-ffa23fd06bfd",
   "metadata": {},
   "outputs": [],
   "source": [
    "X_train = preprocess(X_train)\n",
    "X_test = preprocess(X_test)"
   ]
  },
  {
   "cell_type": "markdown",
   "id": "6f6e5813-a6f8-4baf-b41e-f52a2b1b98e5",
   "metadata": {},
   "source": [
    "#### Model"
   ]
  },
  {
   "cell_type": "code",
   "execution_count": 15,
   "id": "255a5ba6-5455-4744-9602-1dcd449b2fe9",
   "metadata": {},
   "outputs": [],
   "source": [
    "model = keras.Sequential([\n",
    "    layers.Conv2D(filters=64, kernel_size=(3,3), strides=1, #kernal_size可以简写成3\n",
    "                  padding=\"same\", activation='relu', \n",
    "                  input_shape=(28,28,1), #keras默认忽略第一个维度，即m/batch_size，所以为None\n",
    "                  kernel_regularizer='l2'), #kernel_regularizer=regularizers.l2(l2=0.01)\n",
    "    layers.BatchNormalization(axis=-1),\n",
    "    layers.MaxPooling2D(pool_size=(2,2), # 高宽各减半的池化层，可以简写为2\n",
    "                        strides=2), # strides默认和pool_size一样\n",
    "    layers.Conv2D(64, 3, 1, activation='relu'), \n",
    "    layers.MaxPooling2D(2, 2),\n",
    "    layers.Flatten(), # 打平层，方便全连接层处理\n",
    "    layers.Dense(128, activation='relu'), # 全连接层，128个节点\n",
    "    layers.Dense(10, activation='softmax'), \n",
    "])\n",
    "\n",
    "#model.build(input_shape=(28, 28, 1)) #单独设置input，或者在第一层Conv2D输入input"
   ]
  },
  {
   "cell_type": "code",
   "execution_count": 79,
   "id": "2cf86dac-cc12-4bff-a771-6f4a3a204f03",
   "metadata": {},
   "outputs": [
    {
     "name": "stdout",
     "output_type": "stream",
     "text": [
      "Model: \"sequential_1\"\n",
      "_________________________________________________________________\n",
      "Layer (type)                 Output Shape              Param #   \n",
      "=================================================================\n",
      "conv2d_5 (Conv2D)            (None, 28, 28, 64)        640       \n",
      "_________________________________________________________________\n",
      "batch_normalization (BatchNo (None, 28, 28, 64)        256       \n",
      "_________________________________________________________________\n",
      "max_pooling2d_5 (MaxPooling2 (None, 14, 14, 64)        0         \n",
      "_________________________________________________________________\n",
      "conv2d_6 (Conv2D)            (None, 12, 12, 64)        36928     \n",
      "_________________________________________________________________\n",
      "max_pooling2d_6 (MaxPooling2 (None, 6, 6, 64)          0         \n",
      "_________________________________________________________________\n",
      "flatten_1 (Flatten)          (None, 2304)              0         \n",
      "_________________________________________________________________\n",
      "dense_2 (Dense)              (None, 128)               295040    \n",
      "_________________________________________________________________\n",
      "dense_3 (Dense)              (None, 10)                1290      \n",
      "=================================================================\n",
      "Total params: 334,154\n",
      "Trainable params: 334,026\n",
      "Non-trainable params: 128\n",
      "_________________________________________________________________\n"
     ]
    }
   ],
   "source": [
    "model.summary() "
   ]
  },
  {
   "cell_type": "code",
   "execution_count": 17,
   "id": "b16f925b-f975-4575-a071-75ebb7a8b314",
   "metadata": {
    "tags": []
   },
   "outputs": [
    {
     "name": "stdout",
     "output_type": "stream",
     "text": [
      "Epoch 1/5\n",
      "1688/1688 [==============================] - 116s 68ms/step - loss: 0.1706 - accuracy: 0.9544 - val_loss: 0.0753 - val_accuracy: 0.9835\n",
      "Epoch 2/5\n",
      "1688/1688 [==============================] - 115s 68ms/step - loss: 0.0705 - accuracy: 0.9826 - val_loss: 0.0572 - val_accuracy: 0.9890\n",
      "Epoch 3/5\n",
      "1688/1688 [==============================] - 113s 67ms/step - loss: 0.0525 - accuracy: 0.9873 - val_loss: 0.0607 - val_accuracy: 0.9857\n",
      "Epoch 4/5\n",
      "1688/1688 [==============================] - 114s 67ms/step - loss: 0.0421 - accuracy: 0.9896 - val_loss: 0.0475 - val_accuracy: 0.9893\n",
      "Epoch 5/5\n",
      "1688/1688 [==============================] - 118s 70ms/step - loss: 0.0356 - accuracy: 0.9911 - val_loss: 0.0466 - val_accuracy: 0.9895\n"
     ]
    }
   ],
   "source": [
    "model.compile(optimizer='sgd', #keras.optimizers.SGD(learning_rate=0.01)\n",
    "              loss=\"sparse_categorical_crossentropy\", #当labels为数字时使用，若为one-hot使用categorical_crossentropy\n",
    "              metrics=['accuracy'])\n",
    "\n",
    "history = model.fit(X_train, y_train, epochs=5, validation_split=0.1) #默认32samples/batch"
   ]
  },
  {
   "cell_type": "markdown",
   "id": "bda73c7a-bf83-4d16-b119-86cbc33d662a",
   "metadata": {},
   "source": [
    "#### Visualize"
   ]
  },
  {
   "cell_type": "markdown",
   "id": "f752c262-2bbe-4d4e-81d5-1c9a65be0353",
   "metadata": {},
   "source": [
    "通过抽取每一层的output可以可视化地看到CNN提取Features的特性，这个功能常用于Transfer learning提取pretrained model某些层的结果用于自己的模型，如Facenet、NST等"
   ]
  },
  {
   "cell_type": "code",
   "execution_count": 80,
   "id": "0e266946-a149-43b5-bba1-a80871883380",
   "metadata": {},
   "outputs": [
    {
     "data": {
      "text/plain": [
       "[<KerasTensor: shape=(None, 28, 28, 1) dtype=float32 (created by layer 'conv2d_5_input')>]"
      ]
     },
     "execution_count": 80,
     "metadata": {},
     "output_type": "execute_result"
    }
   ],
   "source": [
    "model.inputs # 等同于model.input直接输出，没有列表"
   ]
  },
  {
   "cell_type": "code",
   "execution_count": null,
   "id": "9cbf0996-8157-4a3d-b29f-7f29164578e8",
   "metadata": {},
   "outputs": [],
   "source": [
    "model.outputs # 只输出最后一层的output，等同于model.output，没有列表"
   ]
  },
  {
   "cell_type": "code",
   "execution_count": 81,
   "id": "c81453c5-8b70-4881-bc53-d1e0b871cfab",
   "metadata": {},
   "outputs": [
    {
     "data": {
      "text/plain": [
       "[<tensorflow.python.keras.layers.convolutional.Conv2D at 0x13a52a790>,\n",
       " <tensorflow.python.keras.layers.normalization_v2.BatchNormalization at 0x1504f4f70>,\n",
       " <tensorflow.python.keras.layers.pooling.MaxPooling2D at 0x13a5771c0>,\n",
       " <tensorflow.python.keras.layers.convolutional.Conv2D at 0x14f94f370>,\n",
       " <tensorflow.python.keras.layers.pooling.MaxPooling2D at 0x14f94f400>,\n",
       " <tensorflow.python.keras.layers.core.Flatten at 0x14fa266d0>,\n",
       " <tensorflow.python.keras.layers.core.Dense at 0x150485cd0>,\n",
       " <tensorflow.python.keras.layers.core.Dense at 0x153cb73d0>]"
      ]
     },
     "execution_count": 81,
     "metadata": {},
     "output_type": "execute_result"
    }
   ],
   "source": [
    "model.layers"
   ]
  },
  {
   "cell_type": "code",
   "execution_count": 82,
   "id": "86c376d1-ec6d-4dbe-8d7d-3407da313e43",
   "metadata": {
    "tags": []
   },
   "outputs": [
    {
     "name": "stdout",
     "output_type": "stream",
     "text": [
      "conv2d_5: KerasTensor(type_spec=TensorSpec(shape=(None, 28, 28, 64), dtype=tf.float32, name=None), name='conv2d_5/Relu:0', description=\"created by layer 'conv2d_5'\")\n",
      "\n",
      "batch_normalization: KerasTensor(type_spec=TensorSpec(shape=(None, 28, 28, 64), dtype=tf.float32, name=None), name='batch_normalization/FusedBatchNormV3:0', description=\"created by layer 'batch_normalization'\")\n",
      "\n",
      "max_pooling2d_5: KerasTensor(type_spec=TensorSpec(shape=(None, 14, 14, 64), dtype=tf.float32, name=None), name='max_pooling2d_5/MaxPool:0', description=\"created by layer 'max_pooling2d_5'\")\n",
      "\n",
      "conv2d_6: KerasTensor(type_spec=TensorSpec(shape=(None, 12, 12, 64), dtype=tf.float32, name=None), name='conv2d_6/Relu:0', description=\"created by layer 'conv2d_6'\")\n",
      "\n",
      "max_pooling2d_6: KerasTensor(type_spec=TensorSpec(shape=(None, 6, 6, 64), dtype=tf.float32, name=None), name='max_pooling2d_6/MaxPool:0', description=\"created by layer 'max_pooling2d_6'\")\n",
      "\n",
      "flatten_1: KerasTensor(type_spec=TensorSpec(shape=(None, 2304), dtype=tf.float32, name=None), name='flatten_1/Reshape:0', description=\"created by layer 'flatten_1'\")\n",
      "\n",
      "dense_2: KerasTensor(type_spec=TensorSpec(shape=(None, 128), dtype=tf.float32, name=None), name='dense_2/Relu:0', description=\"created by layer 'dense_2'\")\n",
      "\n",
      "dense_3: KerasTensor(type_spec=TensorSpec(shape=(None, 10), dtype=tf.float32, name=None), name='dense_3/Softmax:0', description=\"created by layer 'dense_3'\")\n",
      "\n"
     ]
    }
   ],
   "source": [
    "for layer in model.layers:\n",
    "    print(f'{layer.name}: {layer.output}\\n') #单独取每一层的output"
   ]
  },
  {
   "cell_type": "code",
   "execution_count": 84,
   "id": "804a9c02-52f7-4092-a8e4-5a7460ee82e0",
   "metadata": {},
   "outputs": [
    {
     "data": {
      "text/plain": [
       "<KerasTensor: shape=(None, 28, 28, 64) dtype=float32 (created by layer 'conv2d_5')>"
      ]
     },
     "execution_count": 84,
     "metadata": {},
     "output_type": "execute_result"
    }
   ],
   "source": [
    "model.get_layer('conv2d_5').output #相等于model.layers[0].output"
   ]
  },
  {
   "cell_type": "markdown",
   "id": "97bd6b80-10ec-4e25-bc14-4d953a9f16cd",
   "metadata": {},
   "source": [
    "<a id='layer'></a>\n",
    "Visualize different filters throughout the conv layers to check what kind of features the convnet has learned. Let's define a new Model that will take an image as input, and will output **intermediate representations** for all layers."
   ]
  },
  {
   "cell_type": "code",
   "execution_count": 85,
   "id": "a4a0cb3f-338e-414e-b139-e0c69a1a7ce2",
   "metadata": {},
   "outputs": [],
   "source": [
    "# Generate a model that outputs all layers\n",
    "IMAGE = [0, 100, 200] # Compare different photos\n",
    "FILTER_NUMBER = 60 # Specific filter out of 64 filters in all Conv layers\n",
    "layer_outputs = [layer.output for layer in model.layers] \n",
    "visual_model = keras.Model(inputs = model.input, outputs = layer_outputs) "
   ]
  },
  {
   "cell_type": "code",
   "execution_count": 86,
   "id": "afd103cc-9f61-48e9-b899-b3f252da36a9",
   "metadata": {},
   "outputs": [
    {
     "data": {
      "text/plain": [
       "<matplotlib.image.AxesImage at 0x150264370>"
      ]
     },
     "execution_count": 86,
     "metadata": {},
     "output_type": "execute_result"
    },
    {
     "data": {
      "text/plain": [
       "<matplotlib.image.AxesImage at 0x146ea1760>"
      ]
     },
     "execution_count": 86,
     "metadata": {},
     "output_type": "execute_result"
    },
    {
     "data": {
      "text/plain": [
       "<matplotlib.image.AxesImage at 0x14f6b4a60>"
      ]
     },
     "execution_count": 86,
     "metadata": {},
     "output_type": "execute_result"
    },
    {
     "data": {
      "text/plain": [
       "<matplotlib.image.AxesImage at 0x1503cbfd0>"
      ]
     },
     "execution_count": 86,
     "metadata": {},
     "output_type": "execute_result"
    },
    {
     "data": {
      "text/plain": [
       "<matplotlib.image.AxesImage at 0x1503e9970>"
      ]
     },
     "execution_count": 86,
     "metadata": {},
     "output_type": "execute_result"
    },
    {
     "data": {
      "text/plain": [
       "Text(0, 0.5, 'Image 0\\nPredict:7, Actual:7')"
      ]
     },
     "execution_count": 86,
     "metadata": {},
     "output_type": "execute_result"
    },
    {
     "data": {
      "text/plain": [
       "<matplotlib.image.AxesImage at 0x14f646fd0>"
      ]
     },
     "execution_count": 86,
     "metadata": {},
     "output_type": "execute_result"
    },
    {
     "data": {
      "text/plain": [
       "<matplotlib.image.AxesImage at 0x14f6538e0>"
      ]
     },
     "execution_count": 86,
     "metadata": {},
     "output_type": "execute_result"
    },
    {
     "data": {
      "text/plain": [
       "<matplotlib.image.AxesImage at 0x150b87f10>"
      ]
     },
     "execution_count": 86,
     "metadata": {},
     "output_type": "execute_result"
    },
    {
     "data": {
      "text/plain": [
       "<matplotlib.image.AxesImage at 0x14f656c70>"
      ]
     },
     "execution_count": 86,
     "metadata": {},
     "output_type": "execute_result"
    },
    {
     "data": {
      "text/plain": [
       "<matplotlib.image.AxesImage at 0x14f6a7d00>"
      ]
     },
     "execution_count": 86,
     "metadata": {},
     "output_type": "execute_result"
    },
    {
     "data": {
      "text/plain": [
       "Text(0, 0.5, 'Image 100\\nPredict:6, Actual:6')"
      ]
     },
     "execution_count": 86,
     "metadata": {},
     "output_type": "execute_result"
    },
    {
     "data": {
      "text/plain": [
       "<matplotlib.image.AxesImage at 0x150b870a0>"
      ]
     },
     "execution_count": 86,
     "metadata": {},
     "output_type": "execute_result"
    },
    {
     "data": {
      "text/plain": [
       "<matplotlib.image.AxesImage at 0x14f63d070>"
      ]
     },
     "execution_count": 86,
     "metadata": {},
     "output_type": "execute_result"
    },
    {
     "data": {
      "text/plain": [
       "<matplotlib.image.AxesImage at 0x14f6b93a0>"
      ]
     },
     "execution_count": 86,
     "metadata": {},
     "output_type": "execute_result"
    },
    {
     "data": {
      "text/plain": [
       "<matplotlib.image.AxesImage at 0x150b6a7f0>"
      ]
     },
     "execution_count": 86,
     "metadata": {},
     "output_type": "execute_result"
    },
    {
     "data": {
      "text/plain": [
       "<matplotlib.image.AxesImage at 0x14f74efd0>"
      ]
     },
     "execution_count": 86,
     "metadata": {},
     "output_type": "execute_result"
    },
    {
     "data": {
      "text/plain": [
       "Text(0, 0.5, 'Image 200\\nPredict:3, Actual:3')"
      ]
     },
     "execution_count": 86,
     "metadata": {},
     "output_type": "execute_result"
    },
    {
     "data": {
      "text/plain": [
       "Text(0.5, 0.98, 'The 60th Filter Visualization for Layer 1-5')"
      ]
     },
     "execution_count": 86,
     "metadata": {},
     "output_type": "execute_result"
    },
    {
     "data": {
      "image/png": "[encoded data removed]",
      "text/plain": [
       "<Figure size 2016x1440 with 15 Axes>"
      ]
     },
     "metadata": {
      "needs_background": "light"
     },
     "output_type": "display_data"
    }
   ],
   "source": [
    "# Visualize one filter in all conv layers\n",
    "f, ax = plt.subplots(3,5, figsize=(28,20)) #对比三张图片，前5层conv layer的output\n",
    "for i in range(0,3):\n",
    "    for l in range(0,5):\n",
    "        outputs = visual_model.predict(x_test[IMAGE[i]].reshape(1, 28, 28, 1)) #reshape把h,w,c图片变为m,h,w,c的input\n",
    "        ax[i,l].imshow(outputs[l][0, : , :, FILTER_NUMBER], cmap='inferno') #imshow图片要变回h,w,c图片\n",
    "        ax[i,l].grid(False)\n",
    "    ax[i,0].set_ylabel(f'Image {IMAGE[i]}\\nPredict:{np.argmax(outputs[-1])}, Actual:{y_test[IMAGE[i]]}', fontsize=30)\n",
    "plt.suptitle(f'The {FILTER_NUMBER}th Filter Visualization for Layer 1-5', fontsize=40)"
   ]
  },
  {
   "cell_type": "markdown",
   "id": "d3fca3b4-d42c-41ae-9c84-26af17b17cf9",
   "metadata": {},
   "source": [
    "#### Evaluation"
   ]
  },
  {
   "cell_type": "code",
   "execution_count": 87,
   "id": "98bab49b-bb19-458d-85d4-5e81b656f185",
   "metadata": {},
   "outputs": [
    {
     "name": "stdout",
     "output_type": "stream",
     "text": [
      "313/313 [==============================] - 6s 18ms/step - loss: 0.0410 - accuracy: 0.9899\n"
     ]
    },
    {
     "data": {
      "text/plain": [
       "[0.04099562019109726, 0.9898999929428101]"
      ]
     },
     "execution_count": 87,
     "metadata": {},
     "output_type": "execute_result"
    }
   ],
   "source": [
    "model.evaluate(x_test, y_test)"
   ]
  },
  {
   "cell_type": "code",
   "execution_count": null,
   "id": "e03ea10a-565d-4405-8994-7b9fc7cc53e8",
   "metadata": {},
   "outputs": [],
   "source": [
    "def plot_graphs(history, string):\n",
    "    plt.plot(history.history[string])\n",
    "    plt.plot(history.history['val_'+string])\n",
    "    plt.xlabel(\"Epochs\")\n",
    "    plt.title(string.capitalize())\n",
    "    plt.legend([string, 'val_'+string])\n",
    "    plt.show()"
   ]
  },
  {
   "cell_type": "code",
   "execution_count": null,
   "id": "2e002f85-6db3-42c9-b662-b229b2583ada",
   "metadata": {},
   "outputs": [],
   "source": [
    "plot_graphs(history, \"accuracy\")\n",
    "plot_graphs(history, \"loss\")"
   ]
  },
  {
   "cell_type": "code",
   "execution_count": 88,
   "id": "c7778b17-9072-47b5-b6d7-49939c0ddfb0",
   "metadata": {},
   "outputs": [
    {
     "data": {
      "text/plain": [
       "[Text(0.5, 0, 'Epoch'), Text(0, 0.5, 'Loss')]"
      ]
     },
     "execution_count": 88,
     "metadata": {},
     "output_type": "execute_result"
    },
    {
     "data": {
      "text/plain": [
       "[Text(0.5, 0, 'Epoch'), Text(0, 0.5, 'Accuracy')]"
      ]
     },
     "execution_count": 88,
     "metadata": {},
     "output_type": "execute_result"
    },
    {
     "data": {
      "image/png": "[encoded data removed]",
      "text/plain": [
       "<Figure size 432x288 with 1 Axes>"
      ]
     },
     "metadata": {
      "needs_background": "light"
     },
     "output_type": "display_data"
    },
    {
     "data": {
      "image/png": "[encoded data removed]",
      "text/plain": [
       "<Figure size 432x288 with 1 Axes>"
      ]
     },
     "metadata": {
      "needs_background": "light"
     },
     "output_type": "display_data"
    }
   ],
   "source": [
    "log = pd.DataFrame(history.history)\n",
    "\n",
    "loss = log[['loss','val_loss']].copy()\n",
    "loss.rename(columns={'loss':'train','val_loss':'validation'},inplace=True)\n",
    "loss.plot(title='Model loss').set(xlabel='Epoch',ylabel='Loss') \n",
    "\n",
    "acc= log[['accuracy','val_accuracy']].copy()\n",
    "acc.rename(columns={'accuracy':'train','val_accuracy':'validation'},inplace=True)\n",
    "acc.plot(title='Model Accuracy').set(xlabel='Epoch',ylabel='Accuracy')"
   ]
  },
  {
   "cell_type": "markdown",
   "id": "c5e34bf5-96c8-40b0-a0bf-21766d808893",
   "metadata": {},
   "source": [
    "#### Prediction"
   ]
  },
  {
   "cell_type": "code",
   "execution_count": 8,
   "id": "b44f7bc9-8d53-4ae1-88c8-45b97c06f62f",
   "metadata": {},
   "outputs": [
    {
     "data": {
      "text/plain": [
       "array([[2.16945284e-09, 1.30808555e-08, 4.05047740e-06, ...,\n",
       "        9.99994993e-01, 1.81006250e-08, 7.47334727e-09],\n",
       "       [6.34766753e-11, 4.26162075e-08, 1.00000000e+00, ...,\n",
       "        8.98281219e-14, 3.60347863e-09, 2.37691472e-14],\n",
       "       [1.30741626e-07, 9.99656320e-01, 3.19831270e-05, ...,\n",
       "        1.13023278e-04, 1.49140142e-05, 6.52098890e-08],\n",
       "       ...,\n",
       "       [3.52960147e-13, 8.40308170e-11, 7.97992450e-14, ...,\n",
       "        1.77148785e-09, 1.58005445e-12, 6.86232852e-07],\n",
       "       [1.72493998e-07, 7.37036376e-10, 1.66379699e-09, ...,\n",
       "        8.94434482e-09, 1.79271179e-03, 4.69548012e-10],\n",
       "       [9.76720571e-07, 3.01737038e-11, 6.69931126e-07, ...,\n",
       "        2.87627622e-14, 2.56172039e-09, 2.98645206e-11]], dtype=float32)"
      ]
     },
     "execution_count": 8,
     "metadata": {},
     "output_type": "execute_result"
    }
   ],
   "source": [
    "plt.imshow(x_test[0])\n",
    "y_pred = model.predict(x_test)\n",
    "plt.title(f'Predict: Class {np.argmax(y_pred[0])}, Actual: Class {y_test[0]}')"
   ]
  }
 ],
 "metadata": {
  "kernelspec": {
   "display_name": "Python 3 (ipykernel)",
   "language": "python",
   "name": "python3"
  },
  "language_info": {
   "codemirror_mode": {
    "name": "ipython",
    "version": 3
   },
   "file_extension": ".py",
   "mimetype": "text/x-python",
   "name": "python",
   "nbconvert_exporter": "python",
   "pygments_lexer": "ipython3",
   "version": "3.8.8"
  }
 },
 "nbformat": 4,
 "nbformat_minor": 5
}
