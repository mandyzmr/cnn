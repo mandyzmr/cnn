{
 "cells": [
  {
   "cell_type": "code",
   "execution_count": 2,
   "id": "0fba3161-edc3-43c0-aa2f-0aaeb3741e1c",
   "metadata": {},
   "outputs": [],
   "source": [
    "# Analysis\n",
    "import os\n",
    "import glob\n",
    "import numpy as np\n",
    "import pandas as pd\n",
    "import scipy\n",
    "\n",
    "# Plotting\n",
    "import PIL\n",
    "from PIL import ImageDraw, Image\n",
    "import seaborn as sns\n",
    "import cv2\n",
    "import matplotlib.pyplot as plt\n",
    "%matplotlib inline\n",
    "plt.rcParams['font.sans-serif']=['Arial Unicode MS'] \n",
    "plt.rcParams['axes.unicode_minus']=False \n",
    "\n",
    "# Framework\n",
    "import tensorflow as tf\n",
    "from tensorflow import keras\n",
    "from tensorflow.keras import layers, regularizers"
   ]
  },
  {
   "cell_type": "markdown",
   "id": "e9fc36a3-56f6-4824-9900-01572ed9b65f",
   "metadata": {},
   "source": [
    "> ### Visualize Class\n",
    "\n",
    "Generate images that maximise the class probability, and visualize what does that class look like for the model."
   ]
  },
  {
   "cell_type": "markdown",
   "id": "33cfdb05-ba6b-4af1-9b6b-54e5e9005fe7",
   "metadata": {},
   "source": [
    "#### Data"
   ]
  },
  {
   "cell_type": "code",
   "execution_count": 162,
   "id": "2f80f133-205f-4b85-a71f-2a8791ef34dd",
   "metadata": {},
   "outputs": [],
   "source": [
    "numbers = keras.datasets.fashion_mnist\n",
    "(X_train, y_train), (X_test, y_test) = numbers.load_data()"
   ]
  },
  {
   "cell_type": "code",
   "execution_count": 163,
   "id": "4dd9d1c4-62a8-410c-b4c8-a79b26c51614",
   "metadata": {},
   "outputs": [
    {
     "name": "stdout",
     "output_type": "stream",
     "text": [
      "Training set shape: X:(60000, 28, 28), y:(60000,)\n",
      "Test set shape: X:(10000, 28, 28), y:(10000,)\n",
      "There are 10 labels: [0 1 2 3 4 5 6 7 8 9]\n"
     ]
    }
   ],
   "source": [
    "print(f'Training set shape: X:{X_train.shape}, y:{y_train.shape}')\n",
    "print(f'Test set shape: X:{X_test.shape}, y:{y_test.shape}')\n",
    "print(f'There are {len(np.unique(y_train))} labels: {np.unique(y_train)}')"
   ]
  },
  {
   "cell_type": "code",
   "execution_count": 164,
   "id": "243e70d6-50ad-4fe4-8956-d0c7f624ff6f",
   "metadata": {
    "tags": []
   },
   "outputs": [
    {
     "data": {
      "text/plain": [
       "<matplotlib.image.AxesImage at 0x131d31730>"
      ]
     },
     "execution_count": 164,
     "metadata": {},
     "output_type": "execute_result"
    },
    {
     "name": "stdout",
     "output_type": "stream",
     "text": [
      "Class 9\n"
     ]
    },
    {
     "data": {
      "image/png": "[encoded data removed]",
      "text/plain": [
       "<Figure size 432x288 with 1 Axes>"
      ]
     },
     "metadata": {
      "needs_background": "light"
     },
     "output_type": "display_data"
    }
   ],
   "source": [
    "plt.imshow(X_train[0])\n",
    "print(f'Class {y_train[0]}')"
   ]
  },
  {
   "cell_type": "code",
   "execution_count": 165,
   "id": "2f45e61a-18af-48ca-a35f-5c59a0eda468",
   "metadata": {},
   "outputs": [],
   "source": [
    "def preprocess(images): # for numpy arrays\n",
    "    images = images.astype('float32') \n",
    "    images = images/255.0 \n",
    "    images = images.reshape(-1,28,28,1) \n",
    "    return images"
   ]
  },
  {
   "cell_type": "code",
   "execution_count": 166,
   "id": "8bb5913b-1f4f-4614-8cab-8d0ae3ee6bdc",
   "metadata": {},
   "outputs": [],
   "source": [
    "X_train = preprocess(X_train)\n",
    "X_test = preprocess(X_test)"
   ]
  },
  {
   "cell_type": "markdown",
   "id": "8ca1bdc1-8137-4367-9608-64e0292f7929",
   "metadata": {},
   "source": [
    "#### Model"
   ]
  },
  {
   "cell_type": "code",
   "execution_count": 15,
   "id": "02b5cfe9-f1e0-4677-a353-944b3ffec757",
   "metadata": {},
   "outputs": [],
   "source": [
    "model = keras.Sequential([\n",
    "    layers.Conv2D(filters=64, kernel_size=(3,3), strides=1, #kernal_size可以简写成3\n",
    "                  padding=\"same\", activation='relu', \n",
    "                  input_shape=(28,28,1), #keras默认忽略第一个维度，即m/batch_size，所以为None\n",
    "                  kernel_regularizer='l2'), #kernel_regularizer=regularizers.l2(l2=0.01)\n",
    "    layers.BatchNormalization(axis=-1),\n",
    "    layers.MaxPooling2D(pool_size=(2,2), # 高宽各减半的池化层，可以简写为2\n",
    "                        strides=2), # strides默认和pool_size一样\n",
    "    layers.Conv2D(64, 3, 1, activation='relu'), \n",
    "    layers.MaxPooling2D(2, 2),\n",
    "    layers.Flatten(), # 打平层，方便全连接层处理\n",
    "    layers.Dense(128, activation='relu'), # 全连接层，128个节点\n",
    "    layers.Dense(10, activation='softmax'), \n",
    "])"
   ]
  },
  {
   "cell_type": "code",
   "execution_count": 17,
   "id": "15c1f59b-a825-4c34-9794-2f26e40a88ef",
   "metadata": {
    "tags": []
   },
   "outputs": [
    {
     "name": "stdout",
     "output_type": "stream",
     "text": [
      "Epoch 1/5\n",
      "1688/1688 [==============================] - 116s 68ms/step - loss: 0.1706 - accuracy: 0.9544 - val_loss: 0.0753 - val_accuracy: 0.9835\n",
      "Epoch 2/5\n",
      "1688/1688 [==============================] - 115s 68ms/step - loss: 0.0705 - accuracy: 0.9826 - val_loss: 0.0572 - val_accuracy: 0.9890\n",
      "Epoch 3/5\n",
      "1688/1688 [==============================] - 113s 67ms/step - loss: 0.0525 - accuracy: 0.9873 - val_loss: 0.0607 - val_accuracy: 0.9857\n",
      "Epoch 4/5\n",
      "1688/1688 [==============================] - 114s 67ms/step - loss: 0.0421 - accuracy: 0.9896 - val_loss: 0.0475 - val_accuracy: 0.9893\n",
      "Epoch 5/5\n",
      "1688/1688 [==============================] - 118s 70ms/step - loss: 0.0356 - accuracy: 0.9911 - val_loss: 0.0466 - val_accuracy: 0.9895\n"
     ]
    }
   ],
   "source": [
    "model.compile(optimizer='sgd', loss=\"sparse_categorical_crossentropy\", metrics=['accuracy'])\n",
    "history = model.fit(X_train, y_train, epochs=5, validation_split=0.1) #默认32samples/batch"
   ]
  },
  {
   "cell_type": "markdown",
   "id": "018316b9-94fd-4963-b86f-5ac0d8ca6466",
   "metadata": {},
   "source": [
    "#### Generator"
   ]
  },
  {
   "cell_type": "code",
   "execution_count": 124,
   "id": "5214468c-8a39-4746-af8b-a3de0c74b876",
   "metadata": {},
   "outputs": [],
   "source": [
    "#改变随机图片，使得模型认为它是某个类别\n",
    "model.trainable=False\n",
    "loss_object = tf.keras.losses.SparseCategoricalCrossentropy()\n",
    "optimizer = tf.keras.optimizers.Adam()\n",
    "\n",
    "\n",
    "def train_step(image, target):\n",
    "    with tf.GradientTape() as tape:\n",
    "        y_pred = model(image)\n",
    "        loss = loss_object(target, y_pred)\n",
    "    gradients = tape.gradient(loss, image) \n",
    "    optimizer.apply_gradients([(gradients, image)]) \n",
    "    image = tf.clip_by_value(image, clip_value_min=0.0, clip_value_max=1.0)\n",
    "    return loss\n",
    "\n",
    "def visualize_class(image, target, epochs=1):\n",
    "    image0 = tf.constant(image) #原始随机状态\n",
    "    for e in range(epochs):\n",
    "        loss = train_step(image,target)\n",
    "        if e%20==0:\n",
    "            y_pred = model(image)[0][target] #预测为target label的概率\n",
    "            print(f'Epoch {e+1}/{epochs} - loss: {loss.numpy():,.4f} - y_prob: {y_pred:.2f}') #在进度条前的描述\n",
    "    \n",
    "    plt.subplot(1,2,1)\n",
    "    plt.imshow(image0[0]) #最初随机\n",
    "    plt.title(f'Random: y_pred = {np.argmax(model(image0)[0])}')\n",
    "    plt.subplot(1,2,2)\n",
    "    plt.imshow(image[0]) #显示最终生成的图片\n",
    "    plt.title(f'Final: y_pred = {np.argmax(model(image)[0])}')\n",
    "    plt.show()\n",
    "    return image"
   ]
  },
  {
   "cell_type": "code",
   "execution_count": 171,
   "id": "c6792571-ff8a-46de-a17c-cf2e7fd94e72",
   "metadata": {},
   "outputs": [
    {
     "name": "stdout",
     "output_type": "stream",
     "text": [
      "Epoch 1/100 - loss: 5.0261 - y_prob: 0.01\n",
      "Epoch 21/100 - loss: 0.0171 - y_prob: 0.99\n",
      "Epoch 41/100 - loss: 0.0054 - y_prob: 0.99\n",
      "Epoch 61/100 - loss: 0.0043 - y_prob: 1.00\n",
      "Epoch 81/100 - loss: 0.0038 - y_prob: 1.00\n"
     ]
    },
    {
     "data": {
      "image/png": "[encoded data removed]",
      "text/plain": [
       "<Figure size 432x288 with 2 Axes>"
      ]
     },
     "metadata": {
      "needs_background": "light"
     },
     "output_type": "display_data"
    }
   ],
   "source": [
    "#生成模型心中类别target的样子\n",
    "target = 0\n",
    "image0 = tf.Variable(np.random.rand(1,28,28,1), dtype=tf.float32)\n",
    "image = visualize_class(image0, target, epochs=100)"
   ]
  },
  {
   "cell_type": "markdown",
   "id": "cd6efd35-8a43-4c33-9921-6fdb340d7f5e",
   "metadata": {},
   "source": [
    "Try another way to make the result readable by humans."
   ]
  },
  {
   "cell_type": "code",
   "execution_count": 159,
   "id": "8375a89d-19b0-4c5d-8629-59e6ca56dbdb",
   "metadata": {},
   "outputs": [
    {
     "name": "stdout",
     "output_type": "stream",
     "text": [
      "Model: \"model_8\"\n",
      "_________________________________________________________________\n",
      "Layer (type)                 Output Shape              Param #   \n",
      "=================================================================\n",
      "input_9 (InputLayer)         [(None, 50)]              0         \n",
      "_________________________________________________________________\n",
      "Generator (Sequential)       (None, 28, 28, 1)         112720    \n",
      "_________________________________________________________________\n",
      "sequential (Sequential)      (None, 10)                334154    \n",
      "=================================================================\n",
      "Total params: 446,874\n",
      "Trainable params: 112,720\n",
      "Non-trainable params: 334,154\n",
      "_________________________________________________________________\n"
     ]
    }
   ],
   "source": [
    "def generator_model():\n",
    "    generator = keras.Sequential([\n",
    "        layers.Dense(64, activation=\"selu\", input_shape=[NOISE_DIM]),\n",
    "        layers.Dense(128, activation=\"selu\"),\n",
    "        layers.Dense(28*28, activation=\"sigmoid\"), #生成[0,1]图片数据\n",
    "        layers.Reshape([28, 28, 1]) #(m,h,w,c)\n",
    "    ], name='Generator')\n",
    "    return generator\n",
    "\n",
    "def visualize_class_model(generator, model):\n",
    "    inputs = keras.Input(shape=[NOISE_DIM])\n",
    "    x = generator(inputs)\n",
    "    outputs = model(x)\n",
    "    visualize_class = keras.Model(inputs, outputs)\n",
    "    return visualize_class\n",
    "\n",
    "NOISE_DIM = 50\n",
    "generator = generator_model()\n",
    "visualize_model = visualize_class_model(generator, model)\n",
    "visualize_model.summary()\n",
    "visualize_model.compile(loss='sparse_categorical_crossentropy',optimizer='adam')"
   ]
  },
  {
   "cell_type": "code",
   "execution_count": 187,
   "id": "8b45295c-e1e9-4727-a1a4-1b14cb9da8ff",
   "metadata": {
    "scrolled": true,
    "tags": []
   },
   "outputs": [
    {
     "name": "stdout",
     "output_type": "stream",
     "text": [
      "Epoch 1/10\n",
      "1/1 [==============================] - 0s 7ms/step - loss: 3.8179\n",
      "Epoch 2/10\n",
      "1/1 [==============================] - 0s 6ms/step - loss: 1.3642\n",
      "Epoch 3/10\n",
      "1/1 [==============================] - 0s 6ms/step - loss: 0.1934\n",
      "Epoch 4/10\n",
      "1/1 [==============================] - 0s 6ms/step - loss: 0.0460\n",
      "Epoch 5/10\n",
      "1/1 [==============================] - 0s 7ms/step - loss: 0.0242\n",
      "Epoch 6/10\n",
      "1/1 [==============================] - 0s 6ms/step - loss: 0.0174\n",
      "Epoch 7/10\n",
      "1/1 [==============================] - 0s 6ms/step - loss: 0.0138\n",
      "Epoch 8/10\n",
      "1/1 [==============================] - 0s 7ms/step - loss: 0.0120\n",
      "Epoch 9/10\n",
      "1/1 [==============================] - 0s 6ms/step - loss: 0.0112\n",
      "Epoch 10/10\n",
      "1/1 [==============================] - 0s 6ms/step - loss: 0.0107\n"
     ]
    }
   ],
   "source": [
    "#生成人类认为模型心中类别target的样子\n",
    "target = np.array([[5]])\n",
    "noise = np.random.normal(size=[1, NOISE_DIM])\n",
    "image0 = generator(noise)\n",
    "history = visualize_model.fit(noise, target, epochs=10, verbose=1)"
   ]
  },
  {
   "cell_type": "code",
   "execution_count": 188,
   "id": "00496051-85da-492c-ac6c-b56fa2f4161a",
   "metadata": {},
   "outputs": [
    {
     "data": {
      "text/plain": [
       "<AxesSubplot:>"
      ]
     },
     "execution_count": 188,
     "metadata": {},
     "output_type": "execute_result"
    },
    {
     "data": {
      "text/plain": [
       "<matplotlib.image.AxesImage at 0x13f0f4850>"
      ]
     },
     "execution_count": 188,
     "metadata": {},
     "output_type": "execute_result"
    },
    {
     "data": {
      "text/plain": [
       "Text(0.5, 1.0, 'Random: y_pred = 3')"
      ]
     },
     "execution_count": 188,
     "metadata": {},
     "output_type": "execute_result"
    },
    {
     "data": {
      "text/plain": [
       "<AxesSubplot:>"
      ]
     },
     "execution_count": 188,
     "metadata": {},
     "output_type": "execute_result"
    },
    {
     "data": {
      "text/plain": [
       "<matplotlib.image.AxesImage at 0x13f1cb550>"
      ]
     },
     "execution_count": 188,
     "metadata": {},
     "output_type": "execute_result"
    },
    {
     "data": {
      "text/plain": [
       "Text(0.5, 1.0, 'Final: y_pred = 5')"
      ]
     },
     "execution_count": 188,
     "metadata": {},
     "output_type": "execute_result"
    },
    {
     "data": {
      "image/png": "[encoded data removed]",
      "text/plain": [
       "<Figure size 432x288 with 2 Axes>"
      ]
     },
     "metadata": {
      "needs_background": "light"
     },
     "output_type": "display_data"
    }
   ],
   "source": [
    "image = generator(noise)\n",
    "plt.subplot(1,2,1)\n",
    "plt.imshow(image0[0]) #最初随机\n",
    "plt.title(f'Random: y_pred = {np.argmax(model(image0)[0])}')\n",
    "plt.subplot(1,2,2)\n",
    "plt.imshow(image[0]) #显示最终生成的图片\n",
    "plt.title(f'Final: y_pred = {np.argmax(model(image)[0])}')\n",
    "plt.show()"
   ]
  }
 ],
 "metadata": {
  "kernelspec": {
   "display_name": "Python 3 (ipykernel)",
   "language": "python",
   "name": "python3"
  },
  "language_info": {
   "codemirror_mode": {
    "name": "ipython",
    "version": 3
   },
   "file_extension": ".py",
   "mimetype": "text/x-python",
   "name": "python",
   "nbconvert_exporter": "python",
   "pygments_lexer": "ipython3",
   "version": "3.8.8"
  }
 },
 "nbformat": 4,
 "nbformat_minor": 5
}
