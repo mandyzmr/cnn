{
 "cells": [
  {
   "cell_type": "markdown",
   "id": "208f8343-d99d-422f-a47a-7b130b85989d",
   "metadata": {},
   "source": [
    "> ### Receptive Field"
   ]
  },
  {
   "cell_type": "markdown",
   "id": "a7356faf-3169-4670-8a2d-dc40bd8b4c84",
   "metadata": {},
   "source": [
    "<img src='images/dilation_conv.gif' style=\"height:150px\"></img>"
   ]
  },
  {
   "cell_type": "code",
   "execution_count": 1,
   "id": "2eb0ac27-1542-476f-adb8-e12a945037da",
   "metadata": {},
   "outputs": [],
   "source": [
    "import numpy as np\n",
    "import matplotlib.pyplot as plt\n",
    "%matplotlib inline"
   ]
  },
  {
   "cell_type": "code",
   "execution_count": 45,
   "id": "4b583a24-2e58-4191-b3ab-722126175938",
   "metadata": {},
   "outputs": [],
   "source": [
    "# filter遍历原图区域的频次\n",
    "def conv_freq(n=17, f=3, s=1, d=1, p=0):\n",
    "    img = np.zeros([n,n])\n",
    "    img = np.pad(img, ((p,p),(p,p))) # padding\n",
    "    \n",
    "    f_d = f*d-d+1 #膨胀后的filter size\n",
    "    rf_filter = np.zeros([f_d,f_d]) #实际filter覆盖原图面积\n",
    "    for i in range(0,f_d,d):\n",
    "        for j in range(0,f_d,d):\n",
    "            rf_filter[i,j]+=1\n",
    "    \n",
    "    fm_n = int((n+2*p-f_d)/s+1) #feature map output shape\n",
    "    for i in range(fm_n): #每个filter点对应区域rf_pre_filter，空洞filter的点是隔开的，相当于用d做stride\n",
    "            for j in range(fm_n):\n",
    "                img[i*s:i*s+f_d,j*s:j*s+f_d] += rf_filter \n",
    "                \n",
    "    if p!=0: #把padding再次恢复0\n",
    "        img[:p,:]=img[-p:,:]=img[:,:p]=img[:,-p:]=0 \n",
    "    \n",
    "    plt.figure(figsize=(round((n+2*p)/4,1),round((n+2*p)/4,1)))\n",
    "    sns.heatmap(img, square=True, cbar=False, linewidth=1, linecolor='black', \n",
    "                xticklabels=False, yticklabels=False, cmap='Blues', annot=True)\n",
    "    plt.title(f'{n}x{n} Input -> {fm_n}x{fm_n} Output\\nFilter = {f} (d={d}), p={p}, s={s}')\n",
    "    plt.show();"
   ]
  },
  {
   "cell_type": "code",
   "execution_count": 47,
   "id": "c6ede045-6a2e-46e6-8d3e-01f48dc9e9c5",
   "metadata": {},
   "outputs": [
    {
     "data": {
      "image/png": "[encoded data removed]",
      "text/plain": [
       "<Figure size 108x108 with 1 Axes>"
      ]
     },
     "metadata": {},
     "output_type": "display_data"
    }
   ],
   "source": [
    "conv_freq(n=4, f=3, s=1, d=1, p=1)"
   ]
  },
  {
   "cell_type": "code",
   "execution_count": 2,
   "id": "0cb1ddf2-2fdf-41a0-8950-896901117e94",
   "metadata": {},
   "outputs": [],
   "source": [
    "# 在第l层cov里，filter所对应的原图receptive field\n",
    "def receptive_field(n=5, f=3, s=1, L=1, d=[1]): # L = len(d)\n",
    "    img = np.zeros([n,n])\n",
    "    f_d = f*d[0]-d[0]+1 #膨胀后的filter size\n",
    "    rf = 1+(f_d-1) #感受野大小\n",
    "    rf_filter = np.zeros([f_d,f_d]) #感受野实际覆盖原图面积\n",
    "    for i in range(0,f_d,d[0]):\n",
    "        for j in range(0,f_d,d[0]):\n",
    "            rf_filter[i,j]+=1\n",
    "        \n",
    "    for l in range(L-1): #遍历每一层\n",
    "        rf_pre_filter = np.where(rf_filter!=0,1,0) #有遍历过的地方为1，其余为0\n",
    "        f_d = f*d[l+1]-d[l+1]+1 #从d[1]开始索引，每次都是用原始f来计算当前的f_d\n",
    "        rf = rf+(f_d-1)*s\n",
    "        rf_filter = np.zeros([rf,rf]) \n",
    "        for i in range(0,f*d[l+1],d[l+1]): #每个filter点对应区域rf_pre_filter，空洞filter的点是隔开的，相当于用d做stride\n",
    "            for j in range(0,f*d[l+1],d[l+1]):\n",
    "                rf_filter[i:i+rf_pre_filter.shape[0],j:j+rf_pre_filter.shape[0]] += rf_pre_filter \n",
    "        \n",
    "    # 每个filter点对应的区域叠加\n",
    "    start = int((n-rf)/2) #对应原始范围第一个始点\n",
    "    end = start+rf_filter.shape[0] #end为最后一个始点的位置\n",
    "    img[start:end,start:end] = rf_filter #放在正中间\n",
    "    \n",
    "    plt.figure(figsize=(round(n/4,1),round(n/4,1)))\n",
    "    sns.heatmap(img, square=True, cbar=False, linewidth=1, linecolor='black', \n",
    "                xticklabels=False, yticklabels=False, cmap='Blues', annot=True)\n",
    "    plt.title(f'Layer {L}: Filter = {f} (d={d[-1]}) -> RF = {rf}')\n",
    "    plt.show();"
   ]
  },
  {
   "cell_type": "code",
   "execution_count": 11,
   "id": "e46f568b-904f-410c-9128-7ed9f7a7db39",
   "metadata": {},
   "outputs": [
    {
     "data": {
      "image/png": "[encoded data removed]",
      "text/plain": [
       "<Figure size 129.6x129.6 with 1 Axes>"
      ]
     },
     "metadata": {},
     "output_type": "display_data"
    }
   ],
   "source": [
    "receptive_field(n=7, f=3, s=2, L=2, d=[1,1])"
   ]
  }
 ],
 "metadata": {
  "kernelspec": {
   "display_name": "Python 3 (ipykernel)",
   "language": "python",
   "name": "python3"
  },
  "language_info": {
   "codemirror_mode": {
    "name": "ipython",
    "version": 3
   },
   "file_extension": ".py",
   "mimetype": "text/x-python",
   "name": "python",
   "nbconvert_exporter": "python",
   "pygments_lexer": "ipython3",
   "version": "3.8.8"
  }
 },
 "nbformat": 4,
 "nbformat_minor": 5
}
