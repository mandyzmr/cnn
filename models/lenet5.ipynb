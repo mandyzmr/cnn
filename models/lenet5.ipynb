{
 "cells": [
  {
   "cell_type": "markdown",
   "id": "289dbd9e-0159-44f3-95c4-a5fb7ac2f0d2",
   "metadata": {},
   "source": [
    ">### LeNet-5"
   ]
  },
  {
   "cell_type": "code",
   "execution_count": null,
   "id": "d552d6cc-1cf4-4622-b0b8-e6f0d3a03a2c",
   "metadata": {},
   "outputs": [],
   "source": [
    "from tensorflow import keras\n",
    "import tensorflow as tf\n",
    "from tensorflow.keras import layers"
   ]
  },
  {
   "cell_type": "markdown",
   "id": "d09c17bc-9d7c-403c-9b15-3acc359d2d70",
   "metadata": {
    "tags": []
   },
   "source": [
    "#### Data"
   ]
  },
  {
   "cell_type": "code",
   "execution_count": 28,
   "id": "fdbaf234-4d60-4bd2-a8ce-5720a5239bc0",
   "metadata": {},
   "outputs": [],
   "source": [
    "numbers = keras.datasets.mnist\n",
    "(X_train, y_train), (X_test, y_test) = numbers.load_data()"
   ]
  },
  {
   "cell_type": "code",
   "execution_count": 29,
   "id": "3c1af2ce-5bda-47ff-befe-8dd75040078f",
   "metadata": {},
   "outputs": [],
   "source": [
    "train = tf.data.Dataset.from_tensor_slices((X_train, y_train)) \n",
    "test = tf.data.Dataset.from_tensor_slices((X_test, y_test))"
   ]
  },
  {
   "cell_type": "code",
   "execution_count": 30,
   "id": "baefdf1e-41dc-4acf-95a6-b6083e94af5a",
   "metadata": {},
   "outputs": [],
   "source": [
    "def preprocess(image, label): \n",
    "    image = tf.cast(image, tf.float32) \n",
    "    image = tf.expand_dims(image, -1) # (b,h,w,1) \n",
    "    image = tf.image.resize(image, [32, 32]) #resize前默认图片dim=3\n",
    "    image = image/255.0 \n",
    "    return image, label "
   ]
  },
  {
   "cell_type": "code",
   "execution_count": 31,
   "id": "cff95cf4-76fe-4a28-8239-81f9000c3a65",
   "metadata": {},
   "outputs": [
    {
     "data": {
      "text/plain": [
       "<PrefetchDataset shapes: ((None, 32, 32, 1), (None,)), types: (tf.float32, tf.uint8)>"
      ]
     },
     "execution_count": 31,
     "metadata": {},
     "output_type": "execute_result"
    },
    {
     "data": {
      "text/plain": [
       "<BatchDataset shapes: ((None, 32, 32, 1), (None,)), types: (tf.float32, tf.uint8)>"
      ]
     },
     "execution_count": 31,
     "metadata": {},
     "output_type": "execute_result"
    }
   ],
   "source": [
    "train = train.map(preprocess).shuffle(1024).batch(64).prefetch(-1)\n",
    "test = test.map(preprocess).batch(64)\n",
    "train\n",
    "test"
   ]
  },
  {
   "cell_type": "markdown",
   "id": "edefcff4-bbc3-4c67-9bed-1753471976f6",
   "metadata": {},
   "source": [
    "#### Model\n",
    "Paper: [Gradient-Based Learning Applied to Document Recognition](http://yann.lecun.com/exdb/publis/pdf/lecun-98.pdf)\n",
    "\n",
    "<img src='https://miro.medium.com/max/700/1*aQA7LuLJ2YfozSJa0pAO2Q.png'></img>"
   ]
  },
  {
   "cell_type": "code",
   "execution_count": 38,
   "id": "4eb17509-8f58-4235-8ca0-116909df3723",
   "metadata": {},
   "outputs": [
    {
     "name": "stdout",
     "output_type": "stream",
     "text": [
      "Model: \"LeNet-5\"\n",
      "_________________________________________________________________\n",
      "Layer (type)                 Output Shape              Param #   \n",
      "=================================================================\n",
      "conv2d_8 (Conv2D)            (None, 28, 28, 6)         156       \n",
      "_________________________________________________________________\n",
      "average_pooling2d_6 (Average (None, 14, 14, 6)         0         \n",
      "_________________________________________________________________\n",
      "conv2d_9 (Conv2D)            (None, 10, 10, 16)        2416      \n",
      "_________________________________________________________________\n",
      "average_pooling2d_7 (Average (None, 5, 5, 16)          0         \n",
      "_________________________________________________________________\n",
      "flatten_3 (Flatten)          (None, 400)               0         \n",
      "_________________________________________________________________\n",
      "dense_9 (Dense)              (None, 120)               48120     \n",
      "_________________________________________________________________\n",
      "dense_10 (Dense)             (None, 84)                10164     \n",
      "_________________________________________________________________\n",
      "dense_11 (Dense)             (None, 10)                850       \n",
      "=================================================================\n",
      "Total params: 61,706\n",
      "Trainable params: 61,706\n",
      "Non-trainable params: 0\n",
      "_________________________________________________________________\n"
     ]
    }
   ],
   "source": [
    "model = keras.Sequential([\n",
    "        layers.Conv2D(6, 5, activation='sigmoid', input_shape=(32,32,1)),\n",
    "        layers.AvgPool2D(2,2),\n",
    "        layers.Conv2D(16, 5, activation='sigmoid'),\n",
    "        layers.AvgPool2D(2,2),\n",
    "        layers.Flatten(),\n",
    "        layers.Dense(120, activation='sigmoid'),\n",
    "        layers.Dense(84, activation='sigmoid'),\n",
    "        layers.Dense(10, activation='sigmoid')\n",
    "], name='LeNet-5')\n",
    "model.summary()"
   ]
  },
  {
   "cell_type": "code",
   "execution_count": 26,
   "id": "33f0c997-76be-464f-825b-88133dab67bb",
   "metadata": {},
   "outputs": [
    {
     "name": "stdout",
     "output_type": "stream",
     "text": [
      "Epoch 1/3\n",
      "938/938 [==============================] - 31s 32ms/step - loss: 0.9166 - accuracy: 0.7087 - val_loss: 0.2903 - val_accuracy: 0.9144\n",
      "Epoch 2/3\n",
      "938/938 [==============================] - 32s 34ms/step - loss: 0.2362 - accuracy: 0.9287 - val_loss: 0.1853 - val_accuracy: 0.9423\n",
      "Epoch 3/3\n",
      "938/938 [==============================] - 32s 34ms/step - loss: 0.1580 - accuracy: 0.9517 - val_loss: 0.1220 - val_accuracy: 0.9624\n"
     ]
    }
   ],
   "source": [
    "model.compile(optimizer='adam', loss='sparse_categorical_crossentropy', metrics=['accuracy'])\n",
    "history = model.fit(train, validation_data=test, epochs=3)"
   ]
  }
 ],
 "metadata": {
  "kernelspec": {
   "display_name": "Python 3 (ipykernel)",
   "language": "python",
   "name": "python3"
  },
  "language_info": {
   "codemirror_mode": {
    "name": "ipython",
    "version": 3
   },
   "file_extension": ".py",
   "mimetype": "text/x-python",
   "name": "python",
   "nbconvert_exporter": "python",
   "pygments_lexer": "ipython3",
   "version": "3.8.8"
  }
 },
 "nbformat": 4,
 "nbformat_minor": 5
}
