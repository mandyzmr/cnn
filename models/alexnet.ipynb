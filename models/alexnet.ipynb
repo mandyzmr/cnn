{
 "cells": [
  {
   "cell_type": "markdown",
   "id": "32c16de1-41ee-4930-95c9-92b1fc05d066",
   "metadata": {
    "tags": []
   },
   "source": [
    ">### AlexNet"
   ]
  },
  {
   "cell_type": "code",
   "execution_count": null,
   "id": "c19b2adf-87c9-46c1-bae8-970819355621",
   "metadata": {},
   "outputs": [],
   "source": [
    "import tensorflow as tf\n",
    "from tensorflow import keras\n",
    "from tensorflow.keras import layers, regularizers"
   ]
  },
  {
   "cell_type": "markdown",
   "id": "5654d075-b189-4f5c-a903-c018e3ea9b8e",
   "metadata": {},
   "source": [
    "#### Model"
   ]
  },
  {
   "cell_type": "markdown",
   "id": "94f29bab-7872-4adf-9fc4-e82607c7a16b",
   "metadata": {},
   "source": [
    "Paper: [ImageNet Classification with Deep Convolutional Neural Networks](https://papers.nips.cc/paper/2012/file/c399862d3b9d6b76c8436e924a68c45b-Paper.pdf)\n",
    "\n",
    "<img src='https://miro.medium.com/max/1000/1*2DT1bjmvC-U-lrL7tpj6wg.png'></img>"
   ]
  },
  {
   "cell_type": "code",
   "execution_count": 138,
   "id": "146c6f73-927b-4a1e-98c6-4483c2b5dfe3",
   "metadata": {},
   "outputs": [
    {
     "name": "stdout",
     "output_type": "stream",
     "text": [
      "Model: \"AlexNet\"\n",
      "_________________________________________________________________\n",
      "Layer (type)                 Output Shape              Param #   \n",
      "=================================================================\n",
      "conv2d_67 (Conv2D)           (None, 55, 55, 96)        34944     \n",
      "_________________________________________________________________\n",
      "max_pooling2d_33 (MaxPooling (None, 27, 27, 96)        0         \n",
      "_________________________________________________________________\n",
      "conv2d_68 (Conv2D)           (None, 27, 27, 256)       614656    \n",
      "_________________________________________________________________\n",
      "max_pooling2d_34 (MaxPooling (None, 13, 13, 256)       0         \n",
      "_________________________________________________________________\n",
      "conv2d_69 (Conv2D)           (None, 13, 13, 384)       885120    \n",
      "_________________________________________________________________\n",
      "conv2d_70 (Conv2D)           (None, 13, 13, 384)       1327488   \n",
      "_________________________________________________________________\n",
      "conv2d_71 (Conv2D)           (None, 13, 13, 256)       884992    \n",
      "_________________________________________________________________\n",
      "max_pooling2d_35 (MaxPooling (None, 6, 6, 256)         0         \n",
      "_________________________________________________________________\n",
      "flatten_13 (Flatten)         (None, 9216)              0         \n",
      "_________________________________________________________________\n",
      "dense_40 (Dense)             (None, 4096)              37752832  \n",
      "_________________________________________________________________\n",
      "dense_41 (Dense)             (None, 4096)              16781312  \n",
      "_________________________________________________________________\n",
      "dense_42 (Dense)             (None, 1000)              4097000   \n",
      "=================================================================\n",
      "Total params: 62,378,344\n",
      "Trainable params: 62,378,344\n",
      "Non-trainable params: 0\n",
      "_________________________________________________________________\n"
     ]
    }
   ],
   "source": [
    "model = keras.Sequential([\n",
    "        layers.Conv2D(96, 11, 4, padding='valid', activation='relu', input_shape=(227,227,3)),\n",
    "        layers.MaxPool2D(3,2),\n",
    "        layers.Conv2D(256, 5, padding='same', activation='relu'),\n",
    "        layers.MaxPool2D(3,2),\n",
    "        layers.Conv2D(384, 3, padding='same', activation='relu'),\n",
    "        layers.Conv2D(384, 3, padding='same', activation='relu'),\n",
    "        layers.Conv2D(256, 3, padding='same', activation='relu'),\n",
    "        layers.MaxPool2D(3,2),\n",
    "        layers.Flatten(),\n",
    "        layers.Dense(4096, activation='relu'),\n",
    "        layers.Dense(4096, activation='relu'),\n",
    "        layers.Dense(1000, activation='relu')\n",
    "], name='AlexNet')\n",
    "model.summary()"
   ]
  }
 ],
 "metadata": {
  "kernelspec": {
   "display_name": "Python 3 (ipykernel)",
   "language": "python",
   "name": "python3"
  },
  "language_info": {
   "codemirror_mode": {
    "name": "ipython",
    "version": 3
   },
   "file_extension": ".py",
   "mimetype": "text/x-python",
   "name": "python",
   "nbconvert_exporter": "python",
   "pygments_lexer": "ipython3",
   "version": "3.8.8"
  }
 },
 "nbformat": 4,
 "nbformat_minor": 5
}
