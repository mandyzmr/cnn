{
 "cells": [
  {
   "cell_type": "markdown",
   "id": "d0e1c95f-f0bd-475b-b598-65668f147e34",
   "metadata": {},
   "source": [
    ">### VGG"
   ]
  },
  {
   "cell_type": "code",
   "execution_count": 1,
   "id": "9d46144a-cc2f-4a30-a3ce-adc1496f0a86",
   "metadata": {},
   "outputs": [],
   "source": [
    "import numpy as np\n",
    "import cv2\n",
    "import matplotlib.pyplot as plt\n",
    "%matplotlib inline\n",
    "import tensorflow as tf\n",
    "from tensorflow import keras\n",
    "from tensorflow.keras import layers, regularizers"
   ]
  },
  {
   "cell_type": "markdown",
   "id": "52dfc5ab-0b99-49cc-bb53-1e46011663ee",
   "metadata": {},
   "source": [
    "#### Data"
   ]
  },
  {
   "cell_type": "code",
   "execution_count": 91,
   "id": "980daee8-ed1b-4f55-8c16-a9c60295961e",
   "metadata": {},
   "outputs": [],
   "source": [
    "#根据不同模型的input要求处理图片\n",
    "def preprocess(image, label): \n",
    "    image = tf.cast(image, tf.float32) \n",
    "    image = keras.applications.vgg16.propecess_input() #比如用mean和std来normalize使得mean=0，把RGB转成BGR等\n",
    "    return image, label"
   ]
  },
  {
   "cell_type": "markdown",
   "id": "e8891d26-e6a9-49fa-b294-71ad22cd9691",
   "metadata": {
    "tags": []
   },
   "source": [
    "#### Model\n",
    "Paper: [Very Deep Convolutional Networks for Large-Scale Image Recognition](https://arxiv.org/abs/1409.1556)\n",
    "\n",
    "<img src='https://miro.medium.com/max/1000/1*_vGloND6yyxFeFH5UyCDVg.png'></img>"
   ]
  },
  {
   "cell_type": "code",
   "execution_count": 171,
   "id": "301f47d1-7867-409a-985e-2ae22f7593d8",
   "metadata": {},
   "outputs": [],
   "source": [
    "class Conv(keras.Model):\n",
    "    def __init__(self, filters, kernel_size=3, activation='relu'):\n",
    "        super(Conv, self).__init__()\n",
    "        self.conv = layers.Conv2D(filters, kernel_size, activation=activation, padding= 'same',\n",
    "                                  kernel_regularizer=regularizers.l2(l2=5e-5))\n",
    "    def call(self, inputs):\n",
    "        x = self.conv(inputs)\n",
    "        return x"
   ]
  },
  {
   "cell_type": "code",
   "execution_count": 277,
   "id": "9f2d652d-b136-4990-b555-ae3f23d84268",
   "metadata": {
    "colab": {},
    "colab_type": "code",
    "id": "WGJGaxVjM00W",
    "nbgrader": {
     "cell_type": "code",
     "checksum": "7f19295d8925e1d2e60eefd42a6b4dd8",
     "grade": false,
     "grade_id": "cell-1449db9892707876",
     "locked": false,
     "schema_version": 3,
     "solution": true,
     "task": false
    }
   },
   "outputs": [],
   "source": [
    "class VGG(keras.Model):\n",
    "    def __init__(self, name, n_convs=None, n_classes=1000):\n",
    "        super(VGG, self).__init__(name=name)\n",
    "        if not n_convs:\n",
    "            versions = {'vgg16':[2,2,3,3,3],\n",
    "                        'vgg19':[2,2,4,4,4]}\n",
    "            n_convs = versions[name]\n",
    "        \n",
    "        self.block_1 = self.build_blocks(n_convs[0], 64, 1)\n",
    "        self.block_2 = self.build_blocks(n_convs[1], 128, 2)\n",
    "        self.block_3 = self.build_blocks(n_convs[2], 256, 3)\n",
    "        self.block_4 = self.build_blocks(n_convs[3], 512, 4)\n",
    "        self.block_5 = self.build_blocks(n_convs[4], 512, 5)\n",
    "        self.flatten = layers.Flatten()\n",
    "        self.fc1 = layers.Dense(4096, activation='relu', name='fc1')\n",
    "        self.fc2 = layers.Dense(4096, activation='relu', name='fc2')\n",
    "        self.classifier = layers.Dense(n_classes, activation='softmax', name='predictions')\n",
    "\n",
    "    def build_blocks(self, n_conv, filters, block, pool_size=2, pool_stride=2):\n",
    "        block = keras.Sequential([],name=f'block{block}')\n",
    "        for i in range(n_conv):\n",
    "            block.add(Conv(filters))\n",
    "        block.add(layers.MaxPool2D(pool_size, strides=pool_stride))\n",
    "        return block\n",
    "    \n",
    "    def call(self, inputs):\n",
    "        x = self.block_1(inputs)\n",
    "        x = self.block_2(x)\n",
    "        x = self.block_3(x)\n",
    "        x = self.block_4(x)\n",
    "        x = self.block_5(x)\n",
    "        x = self.flatten(x)\n",
    "        x = self.fc1(x)\n",
    "        x = self.fc2(x)\n",
    "        x = self.classifier(x)\n",
    "        return x"
   ]
  },
  {
   "cell_type": "code",
   "execution_count": 278,
   "id": "9566bd08-993a-47c1-9078-fbb455cb6ef6",
   "metadata": {},
   "outputs": [
    {
     "data": {
      "text/plain": [
       "<KerasTensor: shape=(None, 1000) dtype=float32 (created by layer 'predictions')>"
      ]
     },
     "execution_count": 278,
     "metadata": {},
     "output_type": "execute_result"
    },
    {
     "name": "stdout",
     "output_type": "stream",
     "text": [
      "Model: \"vgg16\"\n",
      "_________________________________________________________________\n",
      "Layer (type)                 Output Shape              Param #   \n",
      "=================================================================\n",
      "block1 (Sequential)          (None, 112, 112, 64)      38720     \n",
      "_________________________________________________________________\n",
      "block2 (Sequential)          (None, 56, 56, 128)       221440    \n",
      "_________________________________________________________________\n",
      "block3 (Sequential)          (None, 28, 28, 256)       1475328   \n",
      "_________________________________________________________________\n",
      "block4 (Sequential)          (None, 14, 14, 512)       5899776   \n",
      "_________________________________________________________________\n",
      "block5 (Sequential)          (None, 7, 7, 512)         7079424   \n",
      "_________________________________________________________________\n",
      "flatten_20 (Flatten)         (None, 25088)             0         \n",
      "_________________________________________________________________\n",
      "fc1 (Dense)                  (None, 4096)              102764544 \n",
      "_________________________________________________________________\n",
      "fc2 (Dense)                  (None, 4096)              16781312  \n",
      "_________________________________________________________________\n",
      "predictions (Dense)          (None, 1000)              4097000   \n",
      "=================================================================\n",
      "Total params: 138,357,544\n",
      "Trainable params: 138,357,544\n",
      "Non-trainable params: 0\n",
      "_________________________________________________________________\n"
     ]
    }
   ],
   "source": [
    "# 本来想用vars(self)[f'conv{i}']来循环创建layers，但是不知道为什么layers会没有参数\n",
    "inputs = keras.Input(shape=(224,224,3))\n",
    "model = build_vgg('vgg16')\n",
    "model.build(input_shape=(None,224,224,3))\n",
    "model.call(inputs)\n",
    "model.summary()"
   ]
  },
  {
   "cell_type": "code",
   "execution_count": null,
   "id": "e6fc0a80-d4c3-43d0-ad07-3fc7ae55bd73",
   "metadata": {},
   "outputs": [],
   "source": [
    "#初始学习率为0.001，当验证集准确率不再提高时，学习率衰减为原来的0.1倍，总共下降三次\n",
    "lr_scheduler = keras.callbacks.LearningRateScheduler(\n",
    "    lambda epoch: 1e-3 * 1/(1+epoch))\n",
    "model.compile(optimizer=keras.optimizers.SGD(momentum=0.9))\n",
    "model.fit(X,y, batch_size=256, epochs=74)"
   ]
  },
  {
   "cell_type": "markdown",
   "id": "85044648-4a4b-4afb-8fa5-4d49cce722f7",
   "metadata": {},
   "source": [
    "#### Pretrained"
   ]
  },
  {
   "cell_type": "code",
   "execution_count": 166,
   "id": "55f5504a-7d22-4c44-b696-03085aa336bd",
   "metadata": {},
   "outputs": [],
   "source": [
    "from tensorflow.keras.applications import VGG16, VGG19"
   ]
  },
  {
   "cell_type": "code",
   "execution_count": 167,
   "id": "5eb8f4c7-2c58-43f3-b3d8-e3f716a3ad87",
   "metadata": {
    "tags": []
   },
   "outputs": [
    {
     "name": "stdout",
     "output_type": "stream",
     "text": [
      "Model: \"vgg16\"\n",
      "_________________________________________________________________\n",
      "Layer (type)                 Output Shape              Param #   \n",
      "=================================================================\n",
      "input_17 (InputLayer)        [(None, 224, 224, 3)]     0         \n",
      "_________________________________________________________________\n",
      "block1_conv1 (Conv2D)        (None, 224, 224, 64)      1792      \n",
      "_________________________________________________________________\n",
      "block1_conv2 (Conv2D)        (None, 224, 224, 64)      36928     \n",
      "_________________________________________________________________\n",
      "block1_pool (MaxPooling2D)   (None, 112, 112, 64)      0         \n",
      "_________________________________________________________________\n",
      "block2_conv1 (Conv2D)        (None, 112, 112, 128)     73856     \n",
      "_________________________________________________________________\n",
      "block2_conv2 (Conv2D)        (None, 112, 112, 128)     147584    \n",
      "_________________________________________________________________\n",
      "block2_pool (MaxPooling2D)   (None, 56, 56, 128)       0         \n",
      "_________________________________________________________________\n",
      "block3_conv1 (Conv2D)        (None, 56, 56, 256)       295168    \n",
      "_________________________________________________________________\n",
      "block3_conv2 (Conv2D)        (None, 56, 56, 256)       590080    \n",
      "_________________________________________________________________\n",
      "block3_conv3 (Conv2D)        (None, 56, 56, 256)       590080    \n",
      "_________________________________________________________________\n",
      "block3_pool (MaxPooling2D)   (None, 28, 28, 256)       0         \n",
      "_________________________________________________________________\n",
      "block4_conv1 (Conv2D)        (None, 28, 28, 512)       1180160   \n",
      "_________________________________________________________________\n",
      "block4_conv2 (Conv2D)        (None, 28, 28, 512)       2359808   \n",
      "_________________________________________________________________\n",
      "block4_conv3 (Conv2D)        (None, 28, 28, 512)       2359808   \n",
      "_________________________________________________________________\n",
      "block4_pool (MaxPooling2D)   (None, 14, 14, 512)       0         \n",
      "_________________________________________________________________\n",
      "block5_conv1 (Conv2D)        (None, 14, 14, 512)       2359808   \n",
      "_________________________________________________________________\n",
      "block5_conv2 (Conv2D)        (None, 14, 14, 512)       2359808   \n",
      "_________________________________________________________________\n",
      "block5_conv3 (Conv2D)        (None, 14, 14, 512)       2359808   \n",
      "_________________________________________________________________\n",
      "block5_pool (MaxPooling2D)   (None, 7, 7, 512)         0         \n",
      "_________________________________________________________________\n",
      "flatten (Flatten)            (None, 25088)             0         \n",
      "_________________________________________________________________\n",
      "fc1 (Dense)                  (None, 4096)              102764544 \n",
      "_________________________________________________________________\n",
      "fc2 (Dense)                  (None, 4096)              16781312  \n",
      "_________________________________________________________________\n",
      "predictions (Dense)          (None, 1000)              4097000   \n",
      "=================================================================\n",
      "Total params: 138,357,544\n",
      "Trainable params: 138,357,544\n",
      "Non-trainable params: 0\n",
      "_________________________________________________________________\n"
     ]
    }
   ],
   "source": [
    "model = VGG16(input_shape=(224,224,3), include_top=True,\n",
    "              weights=None, classes=1000) \n",
    "model.summary()"
   ]
  }
 ],
 "metadata": {
  "kernelspec": {
   "display_name": "Python 3 (ipykernel)",
   "language": "python",
   "name": "python3"
  },
  "language_info": {
   "codemirror_mode": {
    "name": "ipython",
    "version": 3
   },
   "file_extension": ".py",
   "mimetype": "text/x-python",
   "name": "python",
   "nbconvert_exporter": "python",
   "pygments_lexer": "ipython3",
   "version": "3.8.8"
  }
 },
 "nbformat": 4,
 "nbformat_minor": 5
}
